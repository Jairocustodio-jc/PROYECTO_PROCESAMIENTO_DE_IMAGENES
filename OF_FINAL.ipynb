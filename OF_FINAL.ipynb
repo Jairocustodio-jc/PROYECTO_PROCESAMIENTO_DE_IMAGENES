{
 "cells": [
  {
   "cell_type": "code",
   "execution_count": 2,
   "metadata": {},
   "outputs": [],
   "source": [
    "import cv2\n",
    "\n",
    "from cv2_tools.Selection import SelectorCV2\n",
    "from conexion_a_sucesiones_de_imagenes.Video_controller_final import VideoController\n"
   ]
  },
  {
   "cell_type": "code",
   "execution_count": null,
   "metadata": {},
   "outputs": [],
   "source": [
    "class BasicMovementDetector(VideoController):\n",
    "\n",
    "    def __init__(self, video, stream, fps, dilate=True):\n",
    "        # Constructor de la clase\n",
    "        # Llama al constructor de la clase padre VideoController y pasa los parámetros recibidos\n",
    "        VideoController.__init__(self, video, stream, fps, dilate)\n",
    "\n",
    "\n",
    "    def run(self):\n",
    "        first_frame = None\n",
    "\n",
    "        for frame in self.manager_cv2:\n",
    "            # Comprueba si es el primer fotograma o se ha producido una acción en el teclado\n",
    "            if first_frame is None or self.manager_cv2.key_manager.action:\n",
    "                self.manager_cv2.key_manager.action = False\n",
    "                # Guarda el primer fotograma y pasa a la siguiente iteración\n",
    "                first_frame = VideoController.frame_conversion(frame)\n",
    "                continue\n",
    "\n",
    "            # Helper selector to draw contours\n",
    "            # Crea un objeto selector para dibujar los contornos en el fotograma\n",
    "            selector = SelectorCV2(color=(0, 0, 200), peephole=False)\n",
    "\n",
    "            gray_frame = VideoController.frame_conversion(frame)\n",
    "            # 1º Absolute substraction\n",
    "            # Realiza una sustracción absoluta entre el primer fotograma y el fotograma actual\n",
    "            substraction = cv2.absdiff(first_frame, gray_frame)\n",
    "            # 2º Set threshold\n",
    "            # Aplica un umbral a la diferencia obtenida anteriormente\n",
    "            threshold = cv2.threshold(substraction, 25, 255, cv2.THRESH_BINARY)[1]\n",
    "            # It will help with some holes\n",
    "            # Si el parámetro dilate es verdadero, se aplica una dilatación a la imagen umbralizada\n",
    "            if self.dilate:\n",
    "                threshold = cv2.dilate(threshold, None, iterations=2)\n",
    "            # 3º Contour/blob detection\n",
    "            # Detecta los contornos en la imagen umbralizada\n",
    "            contours = VideoController.find_contours(threshold)\n",
    "\n",
    "            for contour in contours:\n",
    "                # Agrega los contornos al objeto selector\n",
    "                selector.add_zone(contour)\n",
    "\n",
    "            # Dibuja los contornos en el fotograma\n",
    "            frame = selector.draw(frame)\n",
    "            # Muestra las imágenes resultantes en ventanas separadas\n",
    "            cv2.imshow(\"BasicMovementDetector\", frame)\n",
    "            cv2.imshow(\"Threshold\", threshold)\n",
    "            cv2.imshow(\"Substraction\", substraction)\n",
    "\n",
    "        # Cierra todas las ventanas al final del bucle\n",
    "        cv2.destroyAllWindows()\n"
   ]
  }
 ],
 "metadata": {
  "kernelspec": {
   "display_name": "env",
   "language": "python",
   "name": "python3"
  },
  "language_info": {
   "codemirror_mode": {
    "name": "ipython",
    "version": 3
   },
   "file_extension": ".py",
   "mimetype": "text/x-python",
   "name": "python",
   "nbconvert_exporter": "python",
   "pygments_lexer": "ipython3",
   "version": "3.8.10"
  },
  "orig_nbformat": 4
 },
 "nbformat": 4,
 "nbformat_minor": 2
}
