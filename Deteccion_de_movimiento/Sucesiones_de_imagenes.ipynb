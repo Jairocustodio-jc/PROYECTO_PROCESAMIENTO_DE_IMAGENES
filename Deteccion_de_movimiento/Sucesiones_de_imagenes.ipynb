{
 "cells": [
  {
   "attachments": {},
   "cell_type": "markdown",
   "metadata": {},
   "source": [
    "## Deteccion de movimiento\n",
    "Fuente: \n",
    "https://programarfacil.com/blog/vision-artificial/deteccion-de-movimiento-con-opencv-python/\n"
   ]
  },
  {
   "cell_type": "code",
   "execution_count": 1,
   "metadata": {},
   "outputs": [],
   "source": [
    "# Librerias\n",
    "import numpy as np\n",
    "import cv2\n",
    "import time"
   ]
  },
  {
   "cell_type": "code",
   "execution_count": 2,
   "metadata": {},
   "outputs": [],
   "source": [
    "camara = cv2.VideoCapture(\"prueba_movimiento.mp4\")\n"
   ]
  },
  {
   "cell_type": "code",
   "execution_count": 3,
   "metadata": {},
   "outputs": [
    {
     "data": {
      "text/plain": [
       "(True,\n",
       " array([[[ 2,  2,  2],\n",
       "         [ 2,  2,  2],\n",
       "         [ 2,  2,  2],\n",
       "         ...,\n",
       "         [11, 10,  4],\n",
       "         [11, 10,  4],\n",
       "         [11, 10,  4]],\n",
       " \n",
       "        [[ 2,  2,  2],\n",
       "         [ 2,  2,  2],\n",
       "         [ 2,  2,  2],\n",
       "         ...,\n",
       "         [11, 10,  4],\n",
       "         [11, 10,  4],\n",
       "         [11, 10,  4]],\n",
       " \n",
       "        [[ 2,  2,  2],\n",
       "         [ 2,  2,  2],\n",
       "         [ 2,  2,  2],\n",
       "         ...,\n",
       "         [11, 10,  4],\n",
       "         [11, 10,  4],\n",
       "         [11, 10,  4]],\n",
       " \n",
       "        ...,\n",
       " \n",
       "        [[ 0,  2,  2],\n",
       "         [ 0,  2,  2],\n",
       "         [ 0,  2,  2],\n",
       "         ...,\n",
       "         [ 2,  5,  5],\n",
       "         [ 2,  5,  5],\n",
       "         [ 2,  5,  5]],\n",
       " \n",
       "        [[ 0,  2,  2],\n",
       "         [ 0,  2,  2],\n",
       "         [ 0,  2,  2],\n",
       "         ...,\n",
       "         [ 2,  5,  5],\n",
       "         [ 2,  5,  5],\n",
       "         [ 2,  5,  5]],\n",
       " \n",
       "        [[ 0,  2,  2],\n",
       "         [ 0,  2,  2],\n",
       "         [ 0,  2,  2],\n",
       "         ...,\n",
       "         [ 2,  5,  5],\n",
       "         [ 2,  5,  5],\n",
       "         [ 2,  5,  5]]], dtype=uint8))"
      ]
     },
     "execution_count": 3,
     "metadata": {},
     "output_type": "execute_result"
    }
   ],
   "source": [
    "camara.read()\n",
    "# OJO ESTA FUNCION READ TE DA DOS VALORES EL PRIMERO TE CONFIRMA SI PUDISTE LEER EL FOTOGRAMA Y EL SEGUNDO ES EL VALOR DEL FOTOGRAMA\n"
   ]
  },
  {
   "cell_type": "code",
   "execution_count": 4,
   "metadata": {},
   "outputs": [
    {
     "name": "stdout",
     "output_type": "stream",
     "text": [
      "El video tiene 4795 fotogramas\n"
     ]
    }
   ],
   "source": [
    "num_frames = int(camara.get(cv2.CAP_PROP_FRAME_COUNT))\n",
    "print(\"El video tiene\", num_frames, \"fotogramas\")"
   ]
  },
  {
   "cell_type": "code",
   "execution_count": 5,
   "metadata": {},
   "outputs": [],
   "source": [
    "# Inicializamos el primer frame a vacío.\n",
    "# Nos servirá para obtener el fondo\n",
    "fondo = None"
   ]
  },
  {
   "cell_type": "code",
   "execution_count": 27,
   "metadata": {},
   "outputs": [],
   "source": [
    "def procesar_video(nombre_video):\n",
    "    # Abrir el video\n",
    "    camara = cv2.VideoCapture(nombre_video)\n",
    "    \n",
    "    while True:\n",
    "        # Obtenemos el frame\n",
    "        (grabbed, frame) = camara.read()\n",
    "\n",
    "        # Si hemos llegado al final del vídeo salimos\n",
    "        if not grabbed:\n",
    "            break\n",
    "\n",
    "        # Convertimos a escala de grises\n",
    "        gris = cv2.cvtColor(frame, cv2.COLOR_BGR2GRAY)\n",
    "\n",
    "        cv2.imshow(\"gris\", gris)\n",
    "\n",
    "        # Capturamos una tecla para salir\n",
    "        key = cv2.waitKey(1) & 0xFF\n",
    "\n",
    "        # Tiempo de espera para que se vea bien\n",
    "        time.sleep(0.015)\n",
    "\n",
    "        # Si ha pulsado la letra s, salimos\n",
    "        if key == ord(\"s\"):\n",
    "            break\n",
    "    \n",
    "    # Liberamos la cámara y cerramos todas las ventanas\n",
    "    camara.release()\n",
    "    cv2.destroyAllWindows()"
   ]
  },
  {
   "cell_type": "code",
   "execution_count": 56,
   "metadata": {},
   "outputs": [],
   "source": [
    "procesar_video(\"prueba_1_objeto.mp4\")\n"
   ]
  },
  {
   "cell_type": "code",
   "execution_count": 8,
   "metadata": {},
   "outputs": [],
   "source": [
    "\n",
    "def procesar_video(nombre_video):\n",
    "    # Abrir el video\n",
    "    camara = cv2.VideoCapture(nombre_video)\n",
    "    \n",
    "    while True:\n",
    "        # Obtenemos el frame\n",
    "        (grabbed, frame) = camara.read()\n",
    "\n",
    "        # Si hemos llegado al final del vídeo salimos\n",
    "        if not grabbed:\n",
    "            break\n",
    "\n",
    "        # Convertimos a escala de grises\n",
    "        gris = cv2.cvtColor(frame, cv2.COLOR_BGR2GRAY)\n",
    "        gris = cv2.GaussianBlur(gris, (21, 21), 0)\n",
    "\n",
    "        cv2.imshow(\"gris\", gris)\n",
    "\n",
    "        # Capturamos una tecla para salir\n",
    "        key = cv2.waitKey(1) & 0xFF\n",
    "\n",
    "        # Tiempo de espera para que se vea bien\n",
    "        time.sleep(0.015)\n",
    "\n",
    "        # Si ha pulsado la letra s, salimos\n",
    "        if key == ord(\"s\"):\n",
    "            break\n",
    "    \n",
    "    # Liberamos la cámara y cerramos todas las ventanas\n",
    "    camara.release()\n",
    "    cv2.destroyAllWindows()\n",
    "\n",
    "\n"
   ]
  },
  {
   "cell_type": "code",
   "execution_count": 50,
   "metadata": {},
   "outputs": [],
   "source": [
    "procesar_video(\"prueba_movimiento.mp4\")\n"
   ]
  },
  {
   "cell_type": "code",
   "execution_count": 98,
   "metadata": {},
   "outputs": [],
   "source": [
    "def procesar_video_umbral(nombre_video):\n",
    "    # Abrir el video\n",
    "    camara = cv2.VideoCapture(nombre_video)\n",
    "    fondo = None\n",
    "    while True:\n",
    "        (grabbed, frame) = camara.read()\n",
    "        # Obtenemos el frame\n",
    "\n",
    "        # Si hemos llegado al final del vídeo salimos\n",
    "        if not grabbed:\n",
    "            break\n",
    "\n",
    "        # Convertimos a escala de grises\n",
    "        gris = cv2.cvtColor(frame, cv2.COLOR_BGR2GRAY)\n",
    "        gris = cv2.GaussianBlur(gris, (21, 21), 0)\n",
    "\n",
    "\n",
    "        if fondo is None:\n",
    "            fondo = gris\n",
    "            continue\n",
    "\n",
    "        # Calculo de la diferencia entre el fondo y el frame actual\n",
    "        resta = cv2.absdiff(fondo, gris)\n",
    "\n",
    "        # Aplicamos un umbral\n",
    "        umbral = cv2.threshold(resta, 25, 255, cv2.THRESH_BINARY)[1]\n",
    "        \n",
    "        cv2.imshow(\"umbral\", umbral)\n",
    "\n",
    "        # Capturamos una tecla para salir\n",
    "        key = cv2.waitKey(1) & 0xFF\n",
    "\n",
    "        # Tiempo de espera para que se vea bien\n",
    "        time.sleep(0.015)\n",
    "\n",
    "        # Si ha pulsado la letra s, salimos\n",
    "        if key == ord(\"s\"):\n",
    "            break\n",
    "    \n",
    "    # Liberamos la cámara y cerramos todas las ventanas\n",
    "    camara.release()\n",
    "    cv2.destroyAllWindows()\n"
   ]
  },
  {
   "cell_type": "code",
   "execution_count": 99,
   "metadata": {},
   "outputs": [],
   "source": [
    "procesar_video_umbral(\"prueba_movimiento_estatico.mp4\")\n"
   ]
  },
  {
   "cell_type": "code",
   "execution_count": null,
   "metadata": {},
   "outputs": [],
   "source": []
  },
  {
   "cell_type": "code",
   "execution_count": 95,
   "metadata": {},
   "outputs": [],
   "source": [
    "\n",
    "def procesar_video_final_contorno_1_objeto(nombre_video):\n",
    "    # Abrir el video\n",
    "    camara = cv2.VideoCapture(nombre_video)\n",
    "    \n",
    "    while True:\n",
    "        # Obtenemos el frame\n",
    "        (grabbed, frame) = camara.read()\n",
    "\n",
    "        # Si hemos llegado al final del vídeo salimos\n",
    "        if not grabbed:\n",
    "            break\n",
    "\n",
    "        # Convertimos a escala de grises\n",
    "        gris = cv2.cvtColor(frame, cv2.COLOR_BGR2GRAY)\n",
    "        gris = cv2.GaussianBlur(gris, (21,21), 0)\n",
    "        \n",
    "        # Aplicamos umbralización\n",
    "        _, umbral = cv2.threshold(gris, 40, 255, cv2.THRESH_BINARY)\n",
    "\n",
    "        # Buscamos contorno en la imagen\n",
    "        contornosimg = umbral.copy()\n",
    "        contornos, hierarchy = cv2.findContours(contornosimg, cv2.RETR_EXTERNAL, cv2.CHAIN_APPROX_SIMPLE)\n",
    "        \n",
    "        for c in contornos:\n",
    "            # Eliminamos los contornos más pequeños\n",
    "            if cv2.contourArea(c) < 250:\n",
    "                continue\n",
    "            # Obtenemos el bounds del contorno, el rectángulo mayor que engloba al contorno\n",
    "            (x, y, w, h) = cv2.boundingRect(c)\n",
    "            # Dibujamos el rectángulo del bounds\n",
    "            cv2.rectangle(frame, (x, y), (x + w, y + h), (0, 255, 0), 2)\n",
    "            #cv2.drawContours(frame, [c], -1, (0, 255, 0), 2)\n",
    "\n",
    "\n",
    "        # Mostramos el frame con los contornos\n",
    "        cv2.imshow(\"Video con contornos\", frame)\n",
    "\n",
    "        # Capturamos una tecla para salir\n",
    "        key = cv2.waitKey(1) & 0xFF\n",
    "        \n",
    "        # Tiempo de espera para que se vea bien\n",
    "        time.sleep(0.015)\n",
    "        \n",
    "        # Si ha pulsado la letra s, salimos\n",
    "        if key == ord(\"s\"):\n",
    "            break\n",
    "    \n",
    "    # Liberamos la cámara y cerramos todas las ventanas\n",
    "    camara.release()\n",
    "    cv2.destroyAllWindows()\n",
    "\n",
    "# Ejemplo de uso\n",
    "\n"
   ]
  },
  {
   "cell_type": "code",
   "execution_count": 96,
   "metadata": {},
   "outputs": [
    {
     "ename": "KeyboardInterrupt",
     "evalue": "",
     "output_type": "error",
     "traceback": [
      "\u001b[1;31m---------------------------------------------------------------------------\u001b[0m",
      "\u001b[1;31mKeyboardInterrupt\u001b[0m                         Traceback (most recent call last)",
      "Cell \u001b[1;32mIn[96], line 1\u001b[0m\n\u001b[1;32m----> 1\u001b[0m procesar_video_final_contorno_1_objeto(\u001b[39m\"\u001b[39;49m\u001b[39mprueba_movimiento_estatico.mp4\u001b[39;49m\u001b[39m\"\u001b[39;49m)\n",
      "Cell \u001b[1;32mIn[95], line 42\u001b[0m, in \u001b[0;36mprocesar_video_final_contorno_1_objeto\u001b[1;34m(nombre_video)\u001b[0m\n\u001b[0;32m     39\u001b[0m key \u001b[39m=\u001b[39m cv2\u001b[39m.\u001b[39mwaitKey(\u001b[39m1\u001b[39m) \u001b[39m&\u001b[39m \u001b[39m0xFF\u001b[39m\n\u001b[0;32m     41\u001b[0m \u001b[39m# Tiempo de espera para que se vea bien\u001b[39;00m\n\u001b[1;32m---> 42\u001b[0m time\u001b[39m.\u001b[39;49msleep(\u001b[39m0.015\u001b[39;49m)\n\u001b[0;32m     44\u001b[0m \u001b[39m# Si ha pulsado la letra s, salimos\u001b[39;00m\n\u001b[0;32m     45\u001b[0m \u001b[39mif\u001b[39;00m key \u001b[39m==\u001b[39m \u001b[39mord\u001b[39m(\u001b[39m\"\u001b[39m\u001b[39ms\u001b[39m\u001b[39m\"\u001b[39m):\n",
      "\u001b[1;31mKeyboardInterrupt\u001b[0m: "
     ]
    }
   ],
   "source": [
    "procesar_video_final_contorno_1_objeto(\"prueba_movimiento_estatico.mp4\")\n"
   ]
  },
  {
   "cell_type": "code",
   "execution_count": 128,
   "metadata": {},
   "outputs": [],
   "source": [
    "\n",
    "def detectar_movimiento_final(video_path):\n",
    "    # Capturamos el vídeo\n",
    "    cap = cv2.VideoCapture(video_path)\n",
    "\n",
    "    # Llamada al método\n",
    "    fgbg = cv2.createBackgroundSubtractorMOG2(history=200, varThreshold=16, detectShadows=True)\n",
    "    #fgbg = cv2.createBackgroundSubtractorKNN(history=500, dist2Threshold=400, detectShadows=False)\n",
    "\n",
    "    while True:\n",
    "        # Leemos el siguiente frame\n",
    "        ret, frame = cap.read()\n",
    "\n",
    "        # Si hemos llegado al final del vídeo salimos\n",
    "        if not ret:\n",
    "            break\n",
    "\n",
    "        # Aplicamos el algoritmo\n",
    "        fgmask = fgbg.apply(frame)\n",
    "\n",
    "        # Eliminamos las sombras\n",
    "        fgmask = cv2.morphologyEx(fgmask, cv2.MORPH_OPEN, kernel=np.ones((3,3), np.uint8))\n",
    "\n",
    "        # Copiamos el umbral para detectar los contornos\n",
    "        contornosimg = fgmask.copy()\n",
    "\n",
    "        # Buscamos contorno en la imagen\n",
    "        contornos, hierarchy = cv2.findContours(contornosimg, cv2.RETR_EXTERNAL, cv2.CHAIN_APPROX_SIMPLE)\n",
    "\n",
    "        # Recorremos todos los contornos encontrados\n",
    "        for c in contornos:\n",
    "            # Eliminamos los contornos más pequeños\n",
    "            if cv2.contourArea(c) < 400:\n",
    "                continue\n",
    "\n",
    "            # Obtenemos el bounds del contorno, el rectángulo mayor que engloba al contorno\n",
    "            (x, y, w, h) = cv2.boundingRect(c)\n",
    "            # Dibujamos el rectángulo del bounds\n",
    "            cv2.rectangle(frame, (x, y), (x + w, y + h), (0, 255, 0), 2)\n",
    "\n",
    "        # Mostramos las capturas\n",
    "        cv2.imshow('Camara', frame)\n",
    "        cv2.imshow('Umbral', fgmask)\n",
    "        cv2.imshow('Contornos', contornosimg)\n",
    "\n",
    "        # Sentencias para salir, pulsa 's' y sale\n",
    "        k = cv2.waitKey(30) & 0xff\n",
    "        if k == ord(\"s\"):\n",
    "            break\n",
    "\n",
    "    # Liberamos la cámara y cerramos todas las ventanas\n",
    "    cap.release()\n",
    "    cv2.destroyAllWindows()\n",
    "\n",
    "\n"
   ]
  },
  {
   "cell_type": "code",
   "execution_count": 129,
   "metadata": {},
   "outputs": [],
   "source": [
    "video_path = 'prueba_movimiento_estatico.mp4'  # Reemplaza 'ruta_del_video.mp4' por la ruta correcta de tu video\n",
    "detectar_movimiento_final(video_path)"
   ]
  }
 ],
 "metadata": {
  "kernelspec": {
   "display_name": "env",
   "language": "python",
   "name": "python3"
  },
  "language_info": {
   "codemirror_mode": {
    "name": "ipython",
    "version": 3
   },
   "file_extension": ".py",
   "mimetype": "text/x-python",
   "name": "python",
   "nbconvert_exporter": "python",
   "pygments_lexer": "ipython3",
   "version": "3.8.10"
  },
  "orig_nbformat": 4
 },
 "nbformat": 4,
 "nbformat_minor": 2
}
