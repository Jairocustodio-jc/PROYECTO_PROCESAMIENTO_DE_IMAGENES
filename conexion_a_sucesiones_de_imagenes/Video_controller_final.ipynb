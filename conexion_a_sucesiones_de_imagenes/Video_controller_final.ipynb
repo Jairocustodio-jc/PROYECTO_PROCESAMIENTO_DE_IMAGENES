{
 "cells": [
  {
   "cell_type": "code",
   "execution_count": 2,
   "metadata": {},
   "outputs": [],
   "source": [
    "import cv2\n",
    "\n",
    "from cv2_tools.Management import ManagerCV2\n"
   ]
  },
  {
   "cell_type": "code",
   "execution_count": 8,
   "metadata": {},
   "outputs": [],
   "source": [
    "def CONVERTIR_IMAGEN(IMAGEN):\n",
    "        # Convertir a grises\n",
    "        IMAGEN_GRIS=cv2.cvtColor(IMAGEN,cv2.COLOR_BGR2GRAY)\n",
    "        # SUPRESION DE RUIDO\n",
    "        return cv2.GaussianBlur(IMAGEN_GRIS,(21,21),0)\n",
    "\n",
    "ENTRADA=cv2.imread('prueba_VC.jpg')\n",
    "SALIDA=CONVERTIR_IMAGEN(ENTRADA)\n",
    "cv2.imshow('GRISES_BLURING',SALIDA)\n",
    "cv2.waitKey(0)\n",
    "cv2.destroyAllWindows()\n"
   ]
  },
  {
   "cell_type": "code",
   "execution_count": null,
   "metadata": {},
   "outputs": [],
   "source": []
  }
 ],
 "metadata": {
  "kernelspec": {
   "display_name": "env",
   "language": "python",
   "name": "python3"
  },
  "language_info": {
   "codemirror_mode": {
    "name": "ipython",
    "version": 3
   },
   "file_extension": ".py",
   "mimetype": "text/x-python",
   "name": "python",
   "nbconvert_exporter": "python",
   "pygments_lexer": "ipython3",
   "version": "3.8.10"
  },
  "orig_nbformat": 4
 },
 "nbformat": 4,
 "nbformat_minor": 2
}
