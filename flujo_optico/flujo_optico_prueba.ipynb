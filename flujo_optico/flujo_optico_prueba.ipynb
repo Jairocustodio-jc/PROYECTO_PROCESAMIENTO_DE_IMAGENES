{
 "cells": [
  {
   "cell_type": "code",
   "execution_count": null,
   "metadata": {},
   "outputs": [],
   "source": [
    "import cv2\n",
    "import numpy as np"
   ]
  },
  {
   "cell_type": "code",
   "execution_count": 1,
   "metadata": {},
   "outputs": [],
   "source": [
    "def flujo_optico(archivo_video):\n",
    "    # Capturando el archivo de video (0 para la cámara, de lo contrario, puedes proporcionar la URL)\n",
    "    captura = cv2.VideoCapture(archivo_video)\n",
    "\n",
    "    # Leyendo el primer fotograma\n",
    "    _, fotograma1 = captura.read()\n",
    "    # Convertir a escala de grises\n",
    "    prvs = cv2.cvtColor(fotograma1, cv2.COLOR_BGR2GRAY)\n",
    "    # Crear una máscara\n",
    "    hsv_mascara = np.zeros_like(fotograma1)\n",
    "    # Establecer la saturación de la imagen al valor máximo\n",
    "    hsv_mascara[..., 1] = 255\n",
    "\n",
    "    # Hasta que se recorra todo el video\n",
    "    while True:\n",
    "        # Capturar otro fotograma y convertir a escala de grises\n",
    "        _, fotograma2 = captura.read()\n",
    "        if fotograma2 is None:\n",
    "            break\n",
    "        siguiente = cv2.cvtColor(fotograma2, cv2.COLOR_BGR2GRAY)\n",
    "\n",
    "        # Se calcula el flujo óptico\n",
    "        flujo = cv2.calcOpticalFlowFarneback(prvs, siguiente, None, 0.5, 3, 15, 3, 5, 1.2, 0)\n",
    "        # Calcular magnitud y ángulo del vector 2D\n",
    "        mag, ang = cv2.cartToPolar(flujo[..., 0], flujo[..., 1])\n",
    "        # Establecer el valor de matiz de la imagen según el ángulo del flujo óptico\n",
    "        hsv_mascara[..., 0] = ang * 180 / np.pi / 2\n",
    "        # Establecer el valor según la magnitud normalizada del flujo óptico\n",
    "        hsv_mascara[..., 2] = cv2.normalize(mag, None, 0, 255, cv2.NORM_MINMAX)\n",
    "        # Convertir a RGB\n",
    "        representacion_rgb = cv2.cvtColor(hsv_mascara, cv2.COLOR_HSV2BGR)\n",
    "\n",
    "        cv2.imshow('fotograma2', representacion_rgb)\n",
    "        kk = cv2.waitKey(20) & 0xff\n",
    "        # Presiona 'e' para salir del video\n",
    "        if kk == ord('e'):\n",
    "            break\n",
    "        # Presiona 's' para guardar el video\n",
    "        elif kk == ord('s'):\n",
    "            cv2.imwrite('Imagen_optica.png', fotograma2)\n",
    "            cv2.imwrite('Imagen_HSV_convertida.png', representacion_rgb)\n",
    "        prvs = siguiente\n",
    "\n",
    "    captura.release()\n",
    "    cv2.destroyAllWindows()"
   ]
  }
 ],
 "metadata": {
  "kernelspec": {
   "display_name": "env",
   "language": "python",
   "name": "python3"
  },
  "language_info": {
   "codemirror_mode": {
    "name": "ipython",
    "version": 3
   },
   "file_extension": ".py",
   "mimetype": "text/x-python",
   "name": "python",
   "nbconvert_exporter": "python",
   "pygments_lexer": "ipython3",
   "version": "3.8.10"
  },
  "orig_nbformat": 4
 },
 "nbformat": 4,
 "nbformat_minor": 2
}
